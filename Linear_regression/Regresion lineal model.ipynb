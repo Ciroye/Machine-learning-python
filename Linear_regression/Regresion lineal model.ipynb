{
 "cells": [
  {
   "cell_type": "markdown",
   "metadata": {},
   "source": [
    "## Model with simulated data"
   ]
  },
  {
   "cell_type": "code",
   "execution_count": 1,
   "metadata": {},
   "outputs": [],
   "source": [
    "import numpy as np\n",
    "import pandas as pd\n",
    "import matplotlib.pyplot as plt\n",
    "%matplotlib inline"
   ]
  },
  {
   "cell_type": "markdown",
   "metadata": {},
   "source": [
    "* ypredicted : a + bX\n",
    "* X : Normal data with mean 1.5 and standard deviation 0.5\n",
    "* Yreal : 2 + 0.3*X + e   ---------- e->N(0,1)"
   ]
  },
  {
   "cell_type": "code",
   "execution_count": 2,
   "metadata": {},
   "outputs": [],
   "source": [
    "X = 1.5 + 0.5*np.random.randn(100)\n",
    "residual_error = np.random.randn(100)\n",
    "Yreal = 2 + 25 * X + residual_error\n",
    "Ypred = 2 + 25 * X"
   ]
  },
  {
   "cell_type": "code",
   "execution_count": 10,
   "metadata": {},
   "outputs": [],
   "source": [
    "x_list = X.tolist()\n",
    "Y_real_list = Yreal.tolist()\n",
    "Y_pred_list = Ypred.tolist()\n",
    "Y_mean = [np.mean(Yreal) for i in range(len(x_list))]"
   ]
  },
  {
   "cell_type": "code",
   "execution_count": 12,
   "metadata": {},
   "outputs": [],
   "source": [
    "data = pd.DataFrame(\n",
    "    {\n",
    "        \"x\":x_list,\n",
    "        \"y_real\":Y_real_list,\n",
    "        \"y_pred\":Y_pred_list,\n",
    "        \"y_mean\":Y_mean\n",
    "    }    \n",
    ")"
   ]
  },
  {
   "cell_type": "code",
   "execution_count": 13,
   "metadata": {},
   "outputs": [
    {
     "data": {
      "text/html": [
       "<div>\n",
       "<style scoped>\n",
       "    .dataframe tbody tr th:only-of-type {\n",
       "        vertical-align: middle;\n",
       "    }\n",
       "\n",
       "    .dataframe tbody tr th {\n",
       "        vertical-align: top;\n",
       "    }\n",
       "\n",
       "    .dataframe thead th {\n",
       "        text-align: right;\n",
       "    }\n",
       "</style>\n",
       "<table border=\"1\" class=\"dataframe\">\n",
       "  <thead>\n",
       "    <tr style=\"text-align: right;\">\n",
       "      <th></th>\n",
       "      <th>x</th>\n",
       "      <th>y_mean</th>\n",
       "      <th>y_pred</th>\n",
       "      <th>y_real</th>\n",
       "    </tr>\n",
       "  </thead>\n",
       "  <tbody>\n",
       "    <tr>\n",
       "      <th>0</th>\n",
       "      <td>1.386012</td>\n",
       "      <td>38.491595</td>\n",
       "      <td>36.650301</td>\n",
       "      <td>36.627541</td>\n",
       "    </tr>\n",
       "    <tr>\n",
       "      <th>1</th>\n",
       "      <td>1.338380</td>\n",
       "      <td>38.491595</td>\n",
       "      <td>35.459497</td>\n",
       "      <td>35.112569</td>\n",
       "    </tr>\n",
       "    <tr>\n",
       "      <th>2</th>\n",
       "      <td>1.588464</td>\n",
       "      <td>38.491595</td>\n",
       "      <td>41.711612</td>\n",
       "      <td>40.021748</td>\n",
       "    </tr>\n",
       "    <tr>\n",
       "      <th>3</th>\n",
       "      <td>1.583078</td>\n",
       "      <td>38.491595</td>\n",
       "      <td>41.576959</td>\n",
       "      <td>40.754416</td>\n",
       "    </tr>\n",
       "    <tr>\n",
       "      <th>4</th>\n",
       "      <td>1.146536</td>\n",
       "      <td>38.491595</td>\n",
       "      <td>30.663392</td>\n",
       "      <td>30.185554</td>\n",
       "    </tr>\n",
       "  </tbody>\n",
       "</table>\n",
       "</div>"
      ],
      "text/plain": [
       "          x     y_mean     y_pred     y_real\n",
       "0  1.386012  38.491595  36.650301  36.627541\n",
       "1  1.338380  38.491595  35.459497  35.112569\n",
       "2  1.588464  38.491595  41.711612  40.021748\n",
       "3  1.583078  38.491595  41.576959  40.754416\n",
       "4  1.146536  38.491595  30.663392  30.185554"
      ]
     },
     "execution_count": 13,
     "metadata": {},
     "output_type": "execute_result"
    }
   ],
   "source": [
    "data.head()"
   ]
  },
  {
   "cell_type": "code",
   "execution_count": 17,
   "metadata": {},
   "outputs": [
    {
     "data": {
      "image/png": "[encoded data removed]",
      "text/plain": [
       "<matplotlib.figure.Figure at 0x110423c90>"
      ]
     },
     "metadata": {},
     "output_type": "display_data"
    }
   ],
   "source": [
    "plt.plot(data[\"x\"],data[\"y_real\"],\"ro\")\n",
    "plt.plot(data[\"x\"],data[\"y_pred\"])\n",
    "plt.plot(data[\"x\"],data[\"y_mean\"],\"g\")\n",
    "plt.title(\"Real value vs Predict value\")\n",
    "plt.show()"
   ]
  },
  {
   "cell_type": "code",
   "execution_count": 43,
   "metadata": {},
   "outputs": [],
   "source": [
    "data[\"SSD\"] = (data[\"y_real\"] - data[\"y_pred\"])**2\n",
    "data[\"SSR\"] = (data[\"y_mean\"] - data[\"y_pred\"])**2\n",
    "data[\"SST\"] = (data[\"y_mean\"] - data[\"y_real\"])**2"
   ]
  },
  {
   "cell_type": "code",
   "execution_count": 44,
   "metadata": {},
   "outputs": [
    {
     "data": {
      "text/html": [
       "<div>\n",
       "<style scoped>\n",
       "    .dataframe tbody tr th:only-of-type {\n",
       "        vertical-align: middle;\n",
       "    }\n",
       "\n",
       "    .dataframe tbody tr th {\n",
       "        vertical-align: top;\n",
       "    }\n",
       "\n",
       "    .dataframe thead th {\n",
       "        text-align: right;\n",
       "    }\n",
       "</style>\n",
       "<table border=\"1\" class=\"dataframe\">\n",
       "  <thead>\n",
       "    <tr style=\"text-align: right;\">\n",
       "      <th></th>\n",
       "      <th>x</th>\n",
       "      <th>y_mean</th>\n",
       "      <th>y_pred</th>\n",
       "      <th>y_real</th>\n",
       "      <th>SSD</th>\n",
       "      <th>SSR</th>\n",
       "      <th>SST</th>\n",
       "    </tr>\n",
       "  </thead>\n",
       "  <tbody>\n",
       "    <tr>\n",
       "      <th>0</th>\n",
       "      <td>1.386012</td>\n",
       "      <td>38.491595</td>\n",
       "      <td>36.650301</td>\n",
       "      <td>36.627541</td>\n",
       "      <td>0.000518</td>\n",
       "      <td>3.390364</td>\n",
       "      <td>3.474698</td>\n",
       "    </tr>\n",
       "    <tr>\n",
       "      <th>1</th>\n",
       "      <td>1.338380</td>\n",
       "      <td>38.491595</td>\n",
       "      <td>35.459497</td>\n",
       "      <td>35.112569</td>\n",
       "      <td>0.120359</td>\n",
       "      <td>9.193617</td>\n",
       "      <td>11.417819</td>\n",
       "    </tr>\n",
       "    <tr>\n",
       "      <th>2</th>\n",
       "      <td>1.588464</td>\n",
       "      <td>38.491595</td>\n",
       "      <td>41.711612</td>\n",
       "      <td>40.021748</td>\n",
       "      <td>2.855640</td>\n",
       "      <td>10.368505</td>\n",
       "      <td>2.341366</td>\n",
       "    </tr>\n",
       "    <tr>\n",
       "      <th>3</th>\n",
       "      <td>1.583078</td>\n",
       "      <td>38.491595</td>\n",
       "      <td>41.576959</td>\n",
       "      <td>40.754416</td>\n",
       "      <td>0.676578</td>\n",
       "      <td>9.519469</td>\n",
       "      <td>5.120355</td>\n",
       "    </tr>\n",
       "    <tr>\n",
       "      <th>4</th>\n",
       "      <td>1.146536</td>\n",
       "      <td>38.491595</td>\n",
       "      <td>30.663392</td>\n",
       "      <td>30.185554</td>\n",
       "      <td>0.228329</td>\n",
       "      <td>61.280769</td>\n",
       "      <td>68.990319</td>\n",
       "    </tr>\n",
       "  </tbody>\n",
       "</table>\n",
       "</div>"
      ],
      "text/plain": [
       "          x     y_mean     y_pred     y_real       SSD        SSR        SST\n",
       "0  1.386012  38.491595  36.650301  36.627541  0.000518   3.390364   3.474698\n",
       "1  1.338380  38.491595  35.459497  35.112569  0.120359   9.193617  11.417819\n",
       "2  1.588464  38.491595  41.711612  40.021748  2.855640  10.368505   2.341366\n",
       "3  1.583078  38.491595  41.576959  40.754416  0.676578   9.519469   5.120355\n",
       "4  1.146536  38.491595  30.663392  30.185554  0.228329  61.280769  68.990319"
      ]
     },
     "execution_count": 44,
     "metadata": {},
     "output_type": "execute_result"
    }
   ],
   "source": [
    "data.head()"
   ]
  },
  {
   "cell_type": "code",
   "execution_count": 50,
   "metadata": {},
   "outputs": [
    {
     "name": "stdout",
     "output_type": "stream",
     "text": [
      "88.6999392067\n",
      "17178.9491781\n",
      "17766.0197178\n",
      "17267.6491173\n"
     ]
    }
   ],
   "source": [
    "print sum(data[\"SSD\"])\n",
    "print sum(data[\"SSR\"])\n",
    "print sum(data[\"SST\"])\n",
    "print sum(data[\"SSD\"] + data[\"SSR\"])"
   ]
  },
  {
   "cell_type": "code",
   "execution_count": 49,
   "metadata": {},
   "outputs": [],
   "source": [
    "SSD = sum(data[\"SSD\"])\n",
    "SSR = sum(data[\"SSR\"])\n",
    "SST = sum(data[\"SST\"])"
   ]
  },
  {
   "cell_type": "code",
   "execution_count": 51,
   "metadata": {},
   "outputs": [],
   "source": [
    "R2 = SSR / SST"
   ]
  },
  {
   "cell_type": "code",
   "execution_count": 53,
   "metadata": {},
   "outputs": [
    {
     "data": {
      "text/plain": [
       "0.9669554267594141"
      ]
     },
     "execution_count": 53,
     "metadata": {},
     "output_type": "execute_result"
    }
   ],
   "source": [
    "R2"
   ]
  },
  {
   "cell_type": "code",
   "execution_count": 54,
   "metadata": {},
   "outputs": [
    {
     "data": {
      "text/plain": [
       "(array([ 3.,  5.,  7., 10., 23., 17., 16., 10.,  6.,  3.]),\n",
       " array([-2.37255821, -1.91488504, -1.45721187, -0.9995387 , -0.54186553,\n",
       "        -0.08419236,  0.37348081,  0.83115398,  1.28882715,  1.74650032,\n",
       "         2.20417349]),\n",
       " <a list of 10 Patch objects>)"
      ]
     },
     "execution_count": 54,
     "metadata": {},
     "output_type": "execute_result"
    },
    {
     "data": {
      "image/png": "[encoded data removed]",
      "text/plain": [
       "<matplotlib.figure.Figure at 0x1107dc7d0>"
      ]
     },
     "metadata": {},
     "output_type": "display_data"
    }
   ],
   "source": [
    "plt.hist(data[\"y_real\"] - data[\"y_pred\"])"
   ]
  },
  {
   "cell_type": "code",
   "execution_count": 56,
   "metadata": {},
   "outputs": [],
   "source": [
    "x_mean = np.mean(data[\"x\"])\n",
    "y_mean = np.mean(data[\"y_real\"])"
   ]
  },
  {
   "cell_type": "code",
   "execution_count": 59,
   "metadata": {},
   "outputs": [
    {
     "data": {
      "text/plain": [
       "25.362646442851865"
      ]
     },
     "execution_count": 59,
     "metadata": {},
     "output_type": "execute_result"
    }
   ],
   "source": [
    "data[\"beta_numerator\"] = (data[\"x\"] - x_mean) * (data[\"y_real\"] - y_mean)\n",
    "data[\"beta_denominator\"] = (data[\"x\"] - x_mean)**2\n",
    "beta = sum(data[\"beta_numerator\"])/sum(data[\"beta_denominator\"])\n",
    "beta"
   ]
  },
  {
   "cell_type": "code",
   "execution_count": 61,
   "metadata": {},
   "outputs": [
    {
     "data": {
      "text/plain": [
       "1.4605395267798755"
      ]
     },
     "execution_count": 61,
     "metadata": {},
     "output_type": "execute_result"
    }
   ],
   "source": [
    "alpha = y_mean - beta * x_mean\n",
    "alpha"
   ]
  },
  {
   "cell_type": "code",
   "execution_count": 63,
   "metadata": {},
   "outputs": [
    {
     "data": {
      "text/html": [
       "<div>\n",
       "<style scoped>\n",
       "    .dataframe tbody tr th:only-of-type {\n",
       "        vertical-align: middle;\n",
       "    }\n",
       "\n",
       "    .dataframe tbody tr th {\n",
       "        vertical-align: top;\n",
       "    }\n",
       "\n",
       "    .dataframe thead th {\n",
       "        text-align: right;\n",
       "    }\n",
       "</style>\n",
       "<table border=\"1\" class=\"dataframe\">\n",
       "  <thead>\n",
       "    <tr style=\"text-align: right;\">\n",
       "      <th></th>\n",
       "      <th>x</th>\n",
       "      <th>y_mean</th>\n",
       "      <th>y_pred</th>\n",
       "      <th>y_real</th>\n",
       "      <th>SSD</th>\n",
       "      <th>SSR</th>\n",
       "      <th>SST</th>\n",
       "      <th>beta_numerator</th>\n",
       "      <th>beta_denominator</th>\n",
       "      <th>y_model</th>\n",
       "    </tr>\n",
       "  </thead>\n",
       "  <tbody>\n",
       "    <tr>\n",
       "      <th>0</th>\n",
       "      <td>1.386012</td>\n",
       "      <td>38.491595</td>\n",
       "      <td>36.650301</td>\n",
       "      <td>36.627541</td>\n",
       "      <td>0.000518</td>\n",
       "      <td>3.390364</td>\n",
       "      <td>3.474698</td>\n",
       "      <td>0.138035</td>\n",
       "      <td>0.005484</td>\n",
       "      <td>36.613473</td>\n",
       "    </tr>\n",
       "    <tr>\n",
       "      <th>1</th>\n",
       "      <td>1.338380</td>\n",
       "      <td>38.491595</td>\n",
       "      <td>35.459497</td>\n",
       "      <td>35.112569</td>\n",
       "      <td>0.120359</td>\n",
       "      <td>9.193617</td>\n",
       "      <td>11.417819</td>\n",
       "      <td>0.411170</td>\n",
       "      <td>0.014807</td>\n",
       "      <td>35.405396</td>\n",
       "    </tr>\n",
       "    <tr>\n",
       "      <th>2</th>\n",
       "      <td>1.588464</td>\n",
       "      <td>38.491595</td>\n",
       "      <td>41.711612</td>\n",
       "      <td>40.021748</td>\n",
       "      <td>2.855640</td>\n",
       "      <td>10.368505</td>\n",
       "      <td>2.341366</td>\n",
       "      <td>0.196474</td>\n",
       "      <td>0.016487</td>\n",
       "      <td>41.748202</td>\n",
       "    </tr>\n",
       "    <tr>\n",
       "      <th>3</th>\n",
       "      <td>1.583078</td>\n",
       "      <td>38.491595</td>\n",
       "      <td>41.576959</td>\n",
       "      <td>40.754416</td>\n",
       "      <td>0.676578</td>\n",
       "      <td>9.519469</td>\n",
       "      <td>5.120355</td>\n",
       "      <td>0.278362</td>\n",
       "      <td>0.015133</td>\n",
       "      <td>41.611596</td>\n",
       "    </tr>\n",
       "    <tr>\n",
       "      <th>4</th>\n",
       "      <td>1.146536</td>\n",
       "      <td>38.491595</td>\n",
       "      <td>30.663392</td>\n",
       "      <td>30.185554</td>\n",
       "      <td>0.228329</td>\n",
       "      <td>61.280769</td>\n",
       "      <td>68.990319</td>\n",
       "      <td>2.604169</td>\n",
       "      <td>0.098299</td>\n",
       "      <td>30.539719</td>\n",
       "    </tr>\n",
       "  </tbody>\n",
       "</table>\n",
       "</div>"
      ],
      "text/plain": [
       "          x     y_mean     y_pred     y_real       SSD        SSR        SST  \\\n",
       "0  1.386012  38.491595  36.650301  36.627541  0.000518   3.390364   3.474698   \n",
       "1  1.338380  38.491595  35.459497  35.112569  0.120359   9.193617  11.417819   \n",
       "2  1.588464  38.491595  41.711612  40.021748  2.855640  10.368505   2.341366   \n",
       "3  1.583078  38.491595  41.576959  40.754416  0.676578   9.519469   5.120355   \n",
       "4  1.146536  38.491595  30.663392  30.185554  0.228329  61.280769  68.990319   \n",
       "\n",
       "   beta_numerator  beta_denominator    y_model  \n",
       "0        0.138035          0.005484  36.613473  \n",
       "1        0.411170          0.014807  35.405396  \n",
       "2        0.196474          0.016487  41.748202  \n",
       "3        0.278362          0.015133  41.611596  \n",
       "4        2.604169          0.098299  30.539719  "
      ]
     },
     "execution_count": 63,
     "metadata": {},
     "output_type": "execute_result"
    }
   ],
   "source": [
    "data[\"y_model\"] = alpha + beta * data[\"x\"]\n",
    "data.head()"
   ]
  },
  {
   "cell_type": "code",
   "execution_count": 72,
   "metadata": {},
   "outputs": [],
   "source": [
    "SSD_model = sum((data[\"y_model\"] - data[\"y_real\"])**2)\n",
    "SST_model = sum((data[\"y_real\"] - y_mean)**2)\n",
    "SSR_model = sum((data[\"y_model\"] - y_mean)**2)"
   ]
  },
  {
   "cell_type": "code",
   "execution_count": 73,
   "metadata": {},
   "outputs": [
    {
     "data": {
      "text/plain": [
       "0.9952113528032926"
      ]
     },
     "execution_count": 73,
     "metadata": {},
     "output_type": "execute_result"
    }
   ],
   "source": [
    "R2_model = (SSR_model)/ (SST_model)\n",
    "R2_model"
   ]
  },
  {
   "cell_type": "code",
   "execution_count": 77,
   "metadata": {},
   "outputs": [
    {
     "data": {
      "image/png": "[encoded data removed]",
      "text/plain": [
       "<matplotlib.figure.Figure at 0x110899d90>"
      ]
     },
     "metadata": {},
     "output_type": "display_data"
    }
   ],
   "source": [
    "plt.plot(data[\"x\"],data[\"y_real\"],\"ro\")\n",
    "plt.plot(data[\"x\"],data[\"y_pred\"],\"g\")\n",
    "plt.plot(data[\"x\"],data[\"y_mean\"],\"g\")\n",
    "plt.plot(data[\"x\"],data[\"y_model\"],\"b\")\n",
    "plt.title(\"Real value vs Predict value\")\n",
    "plt.show()"
   ]
  },
  {
   "cell_type": "markdown",
   "metadata": {},
   "source": [
    "## The relative standard error or RSE"
   ]
  },
  {
   "cell_type": "code",
   "execution_count": 80,
   "metadata": {},
   "outputs": [
    {
     "data": {
      "text/plain": [
       "0.9317265108416825"
      ]
     },
     "execution_count": 80,
     "metadata": {},
     "output_type": "execute_result"
    }
   ],
   "source": [
    "RSE = np.sqrt(SSD_model/(len(data)-2))\n",
    "RSE"
   ]
  },
  {
   "cell_type": "code",
   "execution_count": 81,
   "metadata": {},
   "outputs": [
    {
     "data": {
      "text/plain": [
       "0.02420597283797501"
      ]
     },
     "execution_count": 81,
     "metadata": {},
     "output_type": "execute_result"
    }
   ],
   "source": [
    "RSE / np.mean(data[\"y_real\"])"
   ]
  }
 ],
 "metadata": {
  "kernelspec": {
   "display_name": "Python 2",
   "language": "python",
   "name": "python2"
  },
  "language_info": {
   "codemirror_mode": {
    "name": "ipython",
    "version": 2
   },
   "file_extension": ".py",
   "mimetype": "text/x-python",
   "name": "python",
   "nbconvert_exporter": "python",
   "pygments_lexer": "ipython2",
   "version": "2.7.14"
  }
 },
 "nbformat": 4,
 "nbformat_minor": 2
}
