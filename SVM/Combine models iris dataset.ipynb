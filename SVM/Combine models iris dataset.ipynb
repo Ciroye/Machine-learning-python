{
 "cells": [
  {
   "cell_type": "code",
   "execution_count": 1,
   "metadata": {},
   "outputs": [],
   "source": [
    "import pandas as pd\n",
    "import numpy as np\n",
    "import matplotlib.pyplot as plt\n",
    "%matplotlib inline"
   ]
  },
  {
   "cell_type": "code",
   "execution_count": 2,
   "metadata": {},
   "outputs": [],
   "source": [
    "def svm_iris(C=1.0,gamma=0.01,kernel=\"rbf\"):\n",
    "    import pandas as pd\n",
    "    import numpy as np\n",
    "    import matplotlib.pyplot as plt\n",
    "    from sklearn import svm, datasets\n",
    "    %matplotlib inline\n",
    "    iris = datasets.load_iris()\n",
    "    X = iris.data[:,:2]\n",
    "    Y = iris.target\n",
    "    x_min , x_max = X[:,0].min() - 1, X[:,0].max() + 1\n",
    "    y_min , y_max = X[:,1].min() - 1, X[:,1].max() + 1\n",
    "    h = (x_max - x_min)/100\n",
    "    xx, yy = np.meshgrid(np.arange(x_min, x_max, h),np.arange(y_min,y_max,h))\n",
    "    X_plot = np.c_[xx.ravel(), yy.ravel()]\n",
    "    svc = svm.SVC(kernel=kernel, C=C, gamma=gamma,decision_function_shape=\"ovr\").fit(X,Y)\n",
    "    Y_pred = svc.predict(X_plot)\n",
    "    Y_pred = Y_pred.reshape(xx.shape)\n",
    "    plt.figure(figsize=(16,9))\n",
    "    plt.contourf(xx,yy,Y_pred,cmap=plt.cm.Accent_r, alpha=0.3)\n",
    "    plt.scatter(X[:,0],X[:,1],c=Y,cmap=\"autumn\")\n",
    "    plt.xlabel(\"Length of petals\")\n",
    "    plt.ylabel(\"Width of petals\")\n",
    "    plt.show()"
   ]
  },
  {
   "cell_type": "code",
   "execution_count": 3,
   "metadata": {},
   "outputs": [],
   "source": [
    "from ipywidgets import interact, fixed"
   ]
  },
  {
   "cell_type": "code",
   "execution_count": 4,
   "metadata": {},
   "outputs": [
    {
     "data": {
      "application/vnd.jupyter.widget-view+json": {
       "model_id": "7ca6760aba1b4accb0a6637201ff98cf",
       "version_major": 2,
       "version_minor": 0
      },
      "text/html": [
       "<p>Failed to display Jupyter Widget of type <code>interactive</code>.</p>\n",
       "<p>\n",
       "  If you're reading this message in the Jupyter Notebook or JupyterLab Notebook, it may mean\n",
       "  that the widgets JavaScript is still loading. If this message persists, it\n",
       "  likely means that the widgets JavaScript library is either not installed or\n",
       "  not enabled. See the <a href=\"https://ipywidgets.readthedocs.io/en/stable/user_install.html\">Jupyter\n",
       "  Widgets Documentation</a> for setup instructions.\n",
       "</p>\n",
       "<p>\n",
       "  If you're reading this message in another frontend (for example, a static\n",
       "  rendering on GitHub or <a href=\"https://nbviewer.jupyter.org/\">NBViewer</a>),\n",
       "  it may mean that your frontend doesn't currently support widgets.\n",
       "</p>\n"
      ],
      "text/plain": [
       "interactive(children=(Dropdown(description=u'C', index=3, options=(0.001, 0.001, 0.1, 1, 1000000.0, 10000000000.0), value=1), Dropdown(description=u'gamma', options=(1e-05, 0.0001, 0.001, 0.1, 1, 10, 200), value=1e-05), Dropdown(description=u'kernel', options=('rbf', 'linear', 'poly', 'sigmoid', 'precomputed'), value='rbf'), Output()), _dom_classes=('widget-interact',))"
      ]
     },
     "metadata": {},
     "output_type": "display_data"
    },
    {
     "data": {
      "text/plain": [
       "<function __main__.svm_iris>"
      ]
     },
     "execution_count": 4,
     "metadata": {},
     "output_type": "execute_result"
    }
   ],
   "source": [
    "interact(svm_iris,C=[0.001,0.001,0.1,1,1e6,1e10],\n",
    "         gamma=[1e-5,1e-4,1e-3,0.1,1,10,200],\n",
    "        kernel=[\"rbf\",\"linear\",\"poly\",\"sigmoid\",\"precomputed\"])"
   ]
  },
  {
   "cell_type": "code",
   "execution_count": null,
   "metadata": {},
   "outputs": [],
   "source": []
  }
 ],
 "metadata": {
  "kernelspec": {
   "display_name": "Python 2",
   "language": "python",
   "name": "python2"
  },
  "language_info": {
   "codemirror_mode": {
    "name": "ipython",
    "version": 2
   },
   "file_extension": ".py",
   "mimetype": "text/x-python",
   "name": "python",
   "nbconvert_exporter": "python",
   "pygments_lexer": "ipython2",
   "version": "2.7.14"
  }
 },
 "nbformat": 4,
 "nbformat_minor": 2
}
